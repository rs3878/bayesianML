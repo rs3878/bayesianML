{
 "cells": [
  {
   "cell_type": "code",
   "execution_count": 1,
   "metadata": {},
   "outputs": [],
   "source": [
    "import numpy as np\n",
    "import pandas as pd\n",
    "import matplotlib.pyplot as plt\n",
    "import scipy as sp\n",
    "from scipy.special import digamma, gammaln, multigammaln\n",
    "% matplotlib inline\n",
    "from scipy.stats import beta,binom"
   ]
  },
  {
   "cell_type": "code",
   "execution_count": 2,
   "metadata": {},
   "outputs": [],
   "source": [
    "# load data\n",
    "X = np.genfromtxt('X.csv', delimiter = ',')\n",
    "N = X.shape[0]"
   ]
  },
  {
   "cell_type": "code",
   "execution_count": 3,
   "metadata": {},
   "outputs": [],
   "source": [
    "def update_pi_and_theta(phi, alpha0, a0, b0, X):\n",
    "    n = np.sum(phi, axis=0)\n",
    "    alpha = alpha0 + n\n",
    "    a = a0 + np.sum((phi.T * X), 1)\n",
    "    a = a.T\n",
    "    b = b0 + np.sum((phi.T * (20 - X) ), axis = 1)\n",
    "    b = b.T\n",
    "    \n",
    "    return alpha, a, b"
   ]
  },
  {
   "cell_type": "code",
   "execution_count": 4,
   "metadata": {},
   "outputs": [],
   "source": [
    "def update_phi(phi, X, N, K, alpha, a, b):\n",
    "    p1 = digamma(alpha)-digamma(np.sum(alpha))\n",
    "    #p1 = p1.reshape((K,1))\n",
    "    p2 = digamma(a)-digamma(a+b)\n",
    "    #p2 = p2.reshape((K,1))\n",
    "    p3 = digamma(b)-digamma(a+b)\n",
    "    #p3 = p3.reshape((K,1))\n",
    "    \n",
    "    for i in range(N):\n",
    "        phi[i,:] = np.exp(p1 + X[i]* p2 +(20-X[i])* p3)\n",
    "        bot = np.sum(phi[i,:])\n",
    "        phi[i,:] = phi[i,:]/bot\n",
    "\n",
    "#     print(\"-------------phi-----------------\")\n",
    "#     print(phi)\n",
    "     \n",
    "    return phi"
   ]
  },
  {
   "cell_type": "code",
   "execution_count": 5,
   "metadata": {},
   "outputs": [],
   "source": [
    "def ln_p(alpha, alpha0, X, K, a, b, a0, b0, phi, pi):\n",
    "    #first term p phix\n",
    "    p1 = digamma(alpha)-digamma(np.sum(alpha))\n",
    "    p2 = digamma(a)-digamma(a+b)    \n",
    "    p3 = digamma(b)-digamma(a+b)\n",
    "\n",
    "    p1p2 = 0\n",
    "    for i in range(len(X)):\n",
    "        p1p2 += np.sum(phi[i,:]*(p1 + X[i]*p2 + (20-X[i])*p3))\n",
    "\n",
    "    #second term p piphi\n",
    "    p2 = np.sum(phi@pi, 0)[0]\n",
    "    p2 = 0\n",
    "    \n",
    "    #third term p theta\n",
    "    p3 = np.sum(gammaln(a0+b0)- gammaln(a0) - gammaln(b0) + \\\n",
    "                (digamma(a)- digamma(a+b))*(a0-1) + (digamma(b) - digamma(a+b))*(b0-1))\n",
    "    \n",
    "    #fourth term p pi\n",
    "    p4 = gammaln(np.sum(alpha0)) - np.sum(gammaln(alpha0))\n",
    "    p4 += np.sum((alpha0-1) * (digamma(alpha) - digamma(np.sum(alpha))))\n",
    "    \n",
    "    result = p1p2+p3+p4\n",
    "    return result"
   ]
  },
  {
   "cell_type": "code",
   "execution_count": 6,
   "metadata": {},
   "outputs": [],
   "source": [
    "def entropy(alpha, phi, a, b):\n",
    "    #fifth term qpi\n",
    "    p5 = gammaln(np.sum(alpha))-np.sum(gammaln(alpha))\n",
    "    p5 += np.sum((alpha-1) * (digamma(alpha)-digamma(np.sum(alpha))))\n",
    "    \n",
    "    #sixth term qc\n",
    "    pt6 = np.sum(phi * np.log(phi))\n",
    "    \n",
    "    #seventh term qtheta\n",
    "    pt7 = np.sum(gammaln(a+b)-gammaln(a)-gammaln(b)+(a-1)* \\\n",
    "                 (digamma(a)-digamma(a+b))+(b-1)*(digamma(b)-digamma(a+b)))\n",
    "    \n",
    "    result = p5+pt6+pt7\n",
    "    return result"
   ]
  },
  {
   "cell_type": "code",
   "execution_count": 7,
   "metadata": {},
   "outputs": [],
   "source": [
    "def VI(X, N, K, a0, b0, a, b, alpha0, alpha, pi, phi, likelihood_list):\n",
    "    #update parameters\n",
    "    alpha, a, b = update_pi_and_theta(phi, alpha0, a0, b0, X)\n",
    "    phi = update_phi(phi, X, N, K, alpha, a, b)\n",
    "    \n",
    "    lnp = ln_p(alpha, alpha0, X, K, a, b, a0, b0, phi, pi)\n",
    "    entro = entropy(alpha, phi, a, b)\n",
    "    obj_fcn = lnp - entro\n",
    "    \n",
    "    return phi, a, b, alpha, obj_fcn"
   ]
  },
  {
   "cell_type": "code",
   "execution_count": 8,
   "metadata": {},
   "outputs": [],
   "source": [
    "def call(X, K=3, T=1000):\n",
    "    #read dimension\n",
    "    N = X.shape[0]\n",
    "\n",
    "    #initialization with p \n",
    "    alpha0 = np.ones(K, dtype = 'float')/10\n",
    "    a0 = b0 = np.ones(K, dtype = 'float')/2\n",
    "\n",
    "    #initialization with q\n",
    "    #theta = np.array([0.01 * (i+1) for i in range(K)]).reshape((K,1))\n",
    "    pi = np.array([0.01 * (i+1) for i in range(K)]).reshape((K,1))\n",
    "\n",
    "    phi = np.random.random((N,K))\n",
    "    \n",
    "    alpha = np.ones(K)/10\n",
    "    a = b = np.ones(K, dtype = 'float')/2\n",
    "    \n",
    "    likelihood_list =[]\n",
    "    \n",
    "    for i in range(T):\n",
    "        phi, a, b, alpha, likelihood = VI(X, N, K, a0, b0, a, b, alpha0, alpha, pi, phi, likelihood_list)\n",
    "#         print(\"-----------------call iterations-----------------\")\n",
    "#         print(a,b)\n",
    "        likelihood_list.append(likelihood)\n",
    "        \n",
    "    return phi, likelihood_list"
   ]
  },
  {
   "cell_type": "code",
   "execution_count": 9,
   "metadata": {},
   "outputs": [
    {
     "data": {
      "image/png": "[encoded data removed]",
      "text/plain": [
       "<Figure size 432x288 with 1 Axes>"
      ]
     },
     "metadata": {},
     "output_type": "display_data"
    }
   ],
   "source": [
    "K = [3,9,15]\n",
    "\n",
    "for k in K:\n",
    "#     print(k)\n",
    "    phi, L = call(X, K = k)\n",
    "    plt.plot(L[1:],label=\"k=%d\"%(k,))\n",
    "#     plt.legend(loc='best')\n",
    "#     plt.show()\n",
    "plt.legend(loc='best')\n",
    "plt.show()"
   ]
  },
  {
   "cell_type": "code",
   "execution_count": 10,
   "metadata": {},
   "outputs": [
    {
     "data": {
      "image/png": "[encoded data removed]",
      "text/plain": [
       "<Figure size 432x288 with 1 Axes>"
      ]
     },
     "metadata": {},
     "output_type": "display_data"
    }
   ],
   "source": [
    "k = 3\n",
    "phi1, L1 = call (X, K = k)\n",
    "plot1 = [[0 for i in range(k)] for i in range(21)]\n",
    "for j in range(1,21):\n",
    "    for i in range(N):\n",
    "        if int(X[i]) ==j:\n",
    "            plot1[j][np.argmax(phi1[i,:])] += 1\n",
    "#remove the first row\n",
    "plot11 = plot1[1:]\n",
    "for i in range(len(plot11)):\n",
    "    plot11[i]= np.argmax(plot11[i]) +1\n",
    "#plot\n",
    "plt.scatter(range(1,21),plot11)\n",
    "plt.title(\"clusters k = 3\")\n",
    "plt.show()"
   ]
  },
  {
   "cell_type": "code",
   "execution_count": 11,
   "metadata": {},
   "outputs": [
    {
     "data": {
      "image/png": "[encoded data removed]",
      "text/plain": [
       "<Figure size 432x288 with 1 Axes>"
      ]
     },
     "metadata": {},
     "output_type": "display_data"
    }
   ],
   "source": [
    "k = 15\n",
    "phi2, L2 = call (X, K = k)\n",
    "plot2 = [[0 for i in range(k)] for i in range(21)]\n",
    "for j in range(1,21):\n",
    "    for i in range(N):\n",
    "        if int(X[i]) ==j:\n",
    "            plot2[j][np.argmax(phi2[i,:])] += 1\n",
    "#remove the first row\n",
    "plot22 = plot2[1:]\n",
    "for i in range(len(plot22)):\n",
    "    plot22[i]= np.argmax(plot22[i]) +1 \n",
    "#plot\n",
    "plt.scatter(range(1,21),plot22)\n",
    "plt.title(\"clusters k = 15\")\n",
    "plt.show()"
   ]
  },
  {
   "cell_type": "code",
   "execution_count": 12,
   "metadata": {},
   "outputs": [
    {
     "data": {
      "image/png": "[encoded data removed]",
      "text/plain": [
       "<Figure size 432x288 with 1 Axes>"
      ]
     },
     "metadata": {},
     "output_type": "display_data"
    }
   ],
   "source": [
    "k = 50\n",
    "phi3, L3 = call(X, K = k)\n",
    "plot3 = [[0 for i in range(k)] for i in range(21)]\n",
    "for j in range(1,21):\n",
    "    for i in range(N):\n",
    "        if int(X[i]) ==j:\n",
    "            plot3[j][np.argmax(phi3[i,:])] += 1\n",
    "#remove the first row\n",
    "plot33 = plot3[1:]\n",
    "for i in range(len(plot33)):\n",
    "    plot33[i]= np.argmax(plot33[i]) +1 \n",
    "#plot\n",
    "plt.scatter(range(1,21),plot22)\n",
    "plt.title(\"clusters k = 50\")\n",
    "plt.show()"
   ]
  },
  {
   "cell_type": "code",
   "execution_count": null,
   "metadata": {},
   "outputs": [],
   "source": []
  }
 ],
 "metadata": {
  "kernelspec": {
   "display_name": "Python 3",
   "language": "python",
   "name": "python3"
  },
  "language_info": {
   "codemirror_mode": {
    "name": "ipython",
    "version": 3
   },
   "file_extension": ".py",
   "mimetype": "text/x-python",
   "name": "python",
   "nbconvert_exporter": "python",
   "pygments_lexer": "ipython3",
   "version": "3.6.5"
  }
 },
 "nbformat": 4,
 "nbformat_minor": 2
}
